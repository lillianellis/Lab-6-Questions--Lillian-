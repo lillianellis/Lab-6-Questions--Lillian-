{
 "cells": [
  {
   "cell_type": "markdown",
   "metadata": {},
   "source": [
    "## Lab 6: Exploring Own Data Sets - FULL LAB"
   ]
  },
  {
   "cell_type": "markdown",
   "metadata": {},
   "source": [
    "Lillian Ellis"
   ]
  },
  {
   "cell_type": "markdown",
   "metadata": {},
   "source": [
    "Created October 30, 2018"
   ]
  },
  {
   "cell_type": "markdown",
   "metadata": {},
   "source": [
    "**Abstract:**"
   ]
  },
  {
   "cell_type": "markdown",
   "metadata": {},
   "source": [
    "In this lab, I worked with a dataset from a survey pulled from Nate Silver's article on Five Thirty Eight surrounding eating steak. This dataset is from May 7th and 8th of 2018 and it is information from a survey sent out to 550 people with questions surrounding risks they take in everyday life, and if and how they eat steak. Throughout my lab, I worked to figure out trends for those who eat or choose not to eat steak. \n",
    "Overarching Questions:\n",
    "- Are smokers more likely to eat stake? What about males? Females? \n",
    "- Overall, do people who take more risks eat stake?\n",
    "\n"
   ]
  },
  {
   "cell_type": "markdown",
   "metadata": {},
   "source": [
    "Link to data set on GitHub: https://github.com/fivethirtyeight/data/tree/master/steak-survey"
   ]
  },
  {
   "cell_type": "markdown",
   "metadata": {},
   "source": [
    "Link to FiveThirtyEight article: https://fivethirtyeight.com/features/how-americans-like-their-steak/ "
   ]
  },
  {
   "cell_type": "markdown",
   "metadata": {},
   "source": [
    "Link to download dataset: https://data.fivethirtyeight.com"
   ]
  },
  {
   "cell_type": "markdown",
   "metadata": {},
   "source": [
    "How I chose this data: \n",
    "- At first, I was really interested in the polling dataset from FiveThirtyEight, but I decided that it did not pose a lot of interesting questions around possible trends or correlations of the dataset for the upcoming elections.\n",
    "- I have learned that it can be hard to find a dataset that is both interesting in quality, but also clean and easy to manage. The data set I have chosen I think is super interesting, and it is pretty clean. \n",
    "- Overall, my personal understanding surrounding what makes a good data set has shifted more from how pretty the data set looks or how serious the topic of the data ask lots of questions that your data can help you answer. "
   ]
  },
  {
   "cell_type": "markdown",
   "metadata": {},
   "source": [
    "**Data Set Preparation:**"
   ]
  },
  {
   "cell_type": "code",
   "execution_count": 42,
   "metadata": {
    "collapsed": true
   },
   "outputs": [],
   "source": [
    "import math as m\n",
    "import numpy as np\n",
    "import scipy as sp\n",
    "import pandas as pd\n",
    "import matplotlib as plt\n",
    "import matplotlib.pyplot as plt\n",
    "import seaborn as sns #(sam seaborn!!)\n",
    "import statsmodels.api as sm\n",
    "import statsmodels.formula.api as smf\n",
    "#Important - upgrade seaborn to 9.0\n",
    "#these imports are useful to purpose\n",
    "#general purpose packages\n",
    "\n",
    "\n",
    "#makes the graphs visible in this notebook \n",
    "%matplotlib inline"
   ]
  },
  {
   "cell_type": "code",
   "execution_count": 43,
   "metadata": {},
   "outputs": [
    {
     "data": {
      "text/html": [
       "<div>\n",
       "<style scoped>\n",
       "    .dataframe tbody tr th:only-of-type {\n",
       "        vertical-align: middle;\n",
       "    }\n",
       "\n",
       "    .dataframe tbody tr th {\n",
       "        vertical-align: top;\n",
       "    }\n",
       "\n",
       "    .dataframe thead th {\n",
       "        text-align: right;\n",
       "    }\n",
       "</style>\n",
       "<table border=\"1\" class=\"dataframe\">\n",
       "  <thead>\n",
       "    <tr style=\"text-align: right;\">\n",
       "      <th></th>\n",
       "      <th>RespondentID</th>\n",
       "      <th>Consider the following hypothetical situations: &lt;br&gt;In Lottery A, you have a 50% chance of success, with a payout of $100. &lt;br&gt;In Lottery B, you have a 90% chance of success, with a payout of $20. &lt;br&gt;&lt;br&gt;Assuming you have $10 to bet, would you play Lottery A or Lottery B?</th>\n",
       "      <th>Do you ever smoke cigarettes?</th>\n",
       "      <th>Do you ever drink alcohol?</th>\n",
       "      <th>Do you ever gamble?</th>\n",
       "      <th>Have you ever been skydiving?</th>\n",
       "      <th>Do you ever drive above the speed limit?</th>\n",
       "      <th>Have you ever cheated on your significant other?</th>\n",
       "      <th>Do you eat steak?</th>\n",
       "      <th>How do you like your steak prepared?</th>\n",
       "      <th>Gender</th>\n",
       "      <th>Age</th>\n",
       "      <th>Household Income</th>\n",
       "      <th>Education</th>\n",
       "      <th>Location (Census Region)</th>\n",
       "    </tr>\n",
       "  </thead>\n",
       "  <tbody>\n",
       "    <tr>\n",
       "      <th>0</th>\n",
       "      <td>NaN</td>\n",
       "      <td>Response</td>\n",
       "      <td>Response</td>\n",
       "      <td>Response</td>\n",
       "      <td>Response</td>\n",
       "      <td>Response</td>\n",
       "      <td>Response</td>\n",
       "      <td>Response</td>\n",
       "      <td>Response</td>\n",
       "      <td>Response</td>\n",
       "      <td>Response</td>\n",
       "      <td>Response</td>\n",
       "      <td>Response</td>\n",
       "      <td>Response</td>\n",
       "      <td>Response</td>\n",
       "    </tr>\n",
       "    <tr>\n",
       "      <th>1</th>\n",
       "      <td>3.237566e+09</td>\n",
       "      <td>Lottery B</td>\n",
       "      <td>NaN</td>\n",
       "      <td>NaN</td>\n",
       "      <td>NaN</td>\n",
       "      <td>NaN</td>\n",
       "      <td>NaN</td>\n",
       "      <td>NaN</td>\n",
       "      <td>NaN</td>\n",
       "      <td>NaN</td>\n",
       "      <td>NaN</td>\n",
       "      <td>NaN</td>\n",
       "      <td>NaN</td>\n",
       "      <td>NaN</td>\n",
       "      <td>NaN</td>\n",
       "    </tr>\n",
       "    <tr>\n",
       "      <th>2</th>\n",
       "      <td>3.234982e+09</td>\n",
       "      <td>Lottery A</td>\n",
       "      <td>No</td>\n",
       "      <td>Yes</td>\n",
       "      <td>No</td>\n",
       "      <td>No</td>\n",
       "      <td>No</td>\n",
       "      <td>No</td>\n",
       "      <td>Yes</td>\n",
       "      <td>Medium rare</td>\n",
       "      <td>Male</td>\n",
       "      <td>&gt; 60</td>\n",
       "      <td>$50,000 - $99,999</td>\n",
       "      <td>Some college or Associate degree</td>\n",
       "      <td>East North Central</td>\n",
       "    </tr>\n",
       "    <tr>\n",
       "      <th>3</th>\n",
       "      <td>3.234973e+09</td>\n",
       "      <td>Lottery A</td>\n",
       "      <td>No</td>\n",
       "      <td>Yes</td>\n",
       "      <td>Yes</td>\n",
       "      <td>No</td>\n",
       "      <td>Yes</td>\n",
       "      <td>Yes</td>\n",
       "      <td>Yes</td>\n",
       "      <td>Rare</td>\n",
       "      <td>Male</td>\n",
       "      <td>&gt; 60</td>\n",
       "      <td>$150,000+</td>\n",
       "      <td>Graduate degree</td>\n",
       "      <td>South Atlantic</td>\n",
       "    </tr>\n",
       "    <tr>\n",
       "      <th>4</th>\n",
       "      <td>3.234972e+09</td>\n",
       "      <td>Lottery B</td>\n",
       "      <td>Yes</td>\n",
       "      <td>Yes</td>\n",
       "      <td>Yes</td>\n",
       "      <td>No</td>\n",
       "      <td>Yes</td>\n",
       "      <td>Yes</td>\n",
       "      <td>Yes</td>\n",
       "      <td>Medium</td>\n",
       "      <td>Male</td>\n",
       "      <td>&gt; 60</td>\n",
       "      <td>$50,000 - $99,999</td>\n",
       "      <td>Bachelor degree</td>\n",
       "      <td>New England</td>\n",
       "    </tr>\n",
       "  </tbody>\n",
       "</table>\n",
       "</div>"
      ],
      "text/plain": [
       "   RespondentID  \\\n",
       "0           NaN   \n",
       "1  3.237566e+09   \n",
       "2  3.234982e+09   \n",
       "3  3.234973e+09   \n",
       "4  3.234972e+09   \n",
       "\n",
       "  Consider the following hypothetical situations: <br>In Lottery A, you have a 50% chance of success, with a payout of $100. <br>In Lottery B, you have a 90% chance of success, with a payout of $20. <br><br>Assuming you have $10 to bet, would you play Lottery A or Lottery B?  \\\n",
       "0                                           Response                                                                                                                                                                                                                                  \n",
       "1                                          Lottery B                                                                                                                                                                                                                                  \n",
       "2                                          Lottery A                                                                                                                                                                                                                                  \n",
       "3                                          Lottery A                                                                                                                                                                                                                                  \n",
       "4                                          Lottery B                                                                                                                                                                                                                                  \n",
       "\n",
       "  Do you ever smoke cigarettes? Do you ever drink alcohol?  \\\n",
       "0                      Response                   Response   \n",
       "1                           NaN                        NaN   \n",
       "2                            No                        Yes   \n",
       "3                            No                        Yes   \n",
       "4                           Yes                        Yes   \n",
       "\n",
       "  Do you ever gamble? Have you ever been skydiving?  \\\n",
       "0            Response                      Response   \n",
       "1                 NaN                           NaN   \n",
       "2                  No                            No   \n",
       "3                 Yes                            No   \n",
       "4                 Yes                            No   \n",
       "\n",
       "  Do you ever drive above the speed limit?  \\\n",
       "0                                 Response   \n",
       "1                                      NaN   \n",
       "2                                       No   \n",
       "3                                      Yes   \n",
       "4                                      Yes   \n",
       "\n",
       "  Have you ever cheated on your significant other? Do you eat steak?  \\\n",
       "0                                         Response          Response   \n",
       "1                                              NaN               NaN   \n",
       "2                                               No               Yes   \n",
       "3                                              Yes               Yes   \n",
       "4                                              Yes               Yes   \n",
       "\n",
       "  How do you like your steak prepared?    Gender       Age   Household Income  \\\n",
       "0                             Response  Response  Response           Response   \n",
       "1                                  NaN       NaN       NaN                NaN   \n",
       "2                          Medium rare      Male      > 60  $50,000 - $99,999   \n",
       "3                                 Rare      Male      > 60          $150,000+   \n",
       "4                               Medium      Male      > 60  $50,000 - $99,999   \n",
       "\n",
       "                          Education Location (Census Region)  \n",
       "0                          Response                 Response  \n",
       "1                               NaN                      NaN  \n",
       "2  Some college or Associate degree       East North Central  \n",
       "3                   Graduate degree           South Atlantic  \n",
       "4                   Bachelor degree              New England  "
      ]
     },
     "execution_count": 43,
     "metadata": {},
     "output_type": "execute_result"
    }
   ],
   "source": [
    "#importing stake survey data set\n",
    "#one line to open and read a csv filed into a data frame data structure\n",
    "steak = pd.read_csv('steak-risk-survey.csv')\n",
    "\n",
    "#print the first few lines of the data frame, default is 5 lines\n",
    "steak.head()"
   ]
  },
  {
   "cell_type": "markdown",
   "metadata": {},
   "source": [
    "A great way to take a clean first look at my data is printing its head, info and describe methods. These display overarching information about my dataset that will be useful throughout the remainder of my lab!"
   ]
  },
  {
   "cell_type": "code",
   "execution_count": 44,
   "metadata": {},
   "outputs": [
    {
     "name": "stdout",
     "output_type": "stream",
     "text": [
      "<class 'pandas.core.frame.DataFrame'>\n",
      "RangeIndex: 551 entries, 0 to 550\n",
      "Data columns (total 15 columns):\n",
      "RespondentID                                                                                                                                                                                                                                                                         550 non-null float64\n",
      "Consider the following hypothetical situations: <br>In Lottery A, you have a 50% chance of success, with a payout of $100. <br>In Lottery B, you have a 90% chance of success, with a payout of $20. <br><br>Assuming you have $10 to bet, would you play Lottery A or Lottery B?    547 non-null object\n",
      "Do you ever smoke cigarettes?                                                                                                                                                                                                                                                        538 non-null object\n",
      "Do you ever drink alcohol?                                                                                                                                                                                                                                                           542 non-null object\n",
      "Do you ever gamble?                                                                                                                                                                                                                                                                  538 non-null object\n",
      "Have you ever been skydiving?                                                                                                                                                                                                                                                        539 non-null object\n",
      "Do you ever drive above the speed limit?                                                                                                                                                                                                                                             540 non-null object\n",
      "Have you ever cheated on your significant other?                                                                                                                                                                                                                                     540 non-null object\n",
      "Do you eat steak?                                                                                                                                                                                                                                                                    540 non-null object\n",
      "How do you like your steak prepared?                                                                                                                                                                                                                                                 433 non-null object\n",
      "Gender                                                                                                                                                                                                                                                                               515 non-null object\n",
      "Age                                                                                                                                                                                                                                                                                  515 non-null object\n",
      "Household Income                                                                                                                                                                                                                                                                     431 non-null object\n",
      "Education                                                                                                                                                                                                                                                                            513 non-null object\n",
      "Location (Census Region)                                                                                                                                                                                                                                                             513 non-null object\n",
      "dtypes: float64(1), object(14)\n",
      "memory usage: 64.6+ KB\n"
     ]
    },
    {
     "data": {
      "text/html": [
       "<div>\n",
       "<style scoped>\n",
       "    .dataframe tbody tr th:only-of-type {\n",
       "        vertical-align: middle;\n",
       "    }\n",
       "\n",
       "    .dataframe tbody tr th {\n",
       "        vertical-align: top;\n",
       "    }\n",
       "\n",
       "    .dataframe thead th {\n",
       "        text-align: right;\n",
       "    }\n",
       "</style>\n",
       "<table border=\"1\" class=\"dataframe\">\n",
       "  <thead>\n",
       "    <tr style=\"text-align: right;\">\n",
       "      <th></th>\n",
       "      <th>RespondentID</th>\n",
       "    </tr>\n",
       "  </thead>\n",
       "  <tbody>\n",
       "    <tr>\n",
       "      <th>count</th>\n",
       "      <td>5.500000e+02</td>\n",
       "    </tr>\n",
       "    <tr>\n",
       "      <th>mean</th>\n",
       "      <td>3.234845e+09</td>\n",
       "    </tr>\n",
       "    <tr>\n",
       "      <th>std</th>\n",
       "      <td>1.265754e+05</td>\n",
       "    </tr>\n",
       "    <tr>\n",
       "      <th>min</th>\n",
       "      <td>3.234760e+09</td>\n",
       "    </tr>\n",
       "    <tr>\n",
       "      <th>25%</th>\n",
       "      <td>3.234800e+09</td>\n",
       "    </tr>\n",
       "    <tr>\n",
       "      <th>50%</th>\n",
       "      <td>3.234835e+09</td>\n",
       "    </tr>\n",
       "    <tr>\n",
       "      <th>75%</th>\n",
       "      <td>3.234875e+09</td>\n",
       "    </tr>\n",
       "    <tr>\n",
       "      <th>max</th>\n",
       "      <td>3.237566e+09</td>\n",
       "    </tr>\n",
       "  </tbody>\n",
       "</table>\n",
       "</div>"
      ],
      "text/plain": [
       "       RespondentID\n",
       "count  5.500000e+02\n",
       "mean   3.234845e+09\n",
       "std    1.265754e+05\n",
       "min    3.234760e+09\n",
       "25%    3.234800e+09\n",
       "50%    3.234835e+09\n",
       "75%    3.234875e+09\n",
       "max    3.237566e+09"
      ]
     },
     "execution_count": 44,
     "metadata": {},
     "output_type": "execute_result"
    }
   ],
   "source": [
    "steak.info()\n",
    "steak.describe()"
   ]
  },
  {
   "cell_type": "markdown",
   "metadata": {},
   "source": [
    "**Dataset Information:**"
   ]
  },
  {
   "cell_type": "markdown",
   "metadata": {},
   "source": [
    "- My data set has 552 Rows and 15 columns\n",
    "- My dataset is pulled from FiveThirtyEight, and it is based off of a survey conducted by Nate Silver and his team. On May 7th and 8th of this year, 550 people filled out this survey. \n",
    "- A lot of my data is binary, as my data set covers questions with two answers. These questions cover topics surrounding skydiving, gambling, smoking, and eating steak (a lot of Yes or No questions)\n",
    "- My data is also filled with categorical data, as the survey prompts for a gender identification of the user, a selection of a range of their household income, and how they like their steak cooked. \n"
   ]
  },
  {
   "cell_type": "markdown",
   "metadata": {},
   "source": [
    "**Data Cleaning:**"
   ]
  },
  {
   "cell_type": "markdown",
   "metadata": {},
   "source": [
    "On Missing Data: \n",
    "- I do have some missing data, as some survey-takers answered some questions and not others\n",
    "- I plan to use the data they have provided through their responses to the survey\n",
    "- Specifically, some survey-responders answered some information but not others. I am planning on discrediting all of the information without answers about whether they eat steak or not. However, this decision may change depending on what I end up analyzing. \n"
   ]
  },
  {
   "cell_type": "markdown",
   "metadata": {},
   "source": [
    "Variables I plan to use:\n",
    "- Because most of my data is binary, I will use a lot of it through overlapping different variables. \n",
    "- Including: eating steak, and risk factors: lottery question, skydiving, smoking, cheating, gambling, etc. \n",
    "- I want to combine, throughout graphs and possibly new variables, counts surrounding lottery question answers, skydiving, smoking, cheating, gambling, gender identification, etc. \n",
    "    - Hopefully I can figure out a way to do this through creating a new column that combines other columns of binary data \n",
    "- This is so I can analyze the risk factors all together against the variable of steak. From there, I can compare factors such as gender, income, etc. \n"
   ]
  },
  {
   "cell_type": "markdown",
   "metadata": {},
   "source": [
    "Analysis I hope to do:\n",
    "- I am planning to analyze the possible correlation between taking certain types of risks and eating steak I plan to do this by overlapping the data I have involving risks\n",
    "- I also plan to analyze a possible correlation from eating steak to things like gender, income, education, age, and location. Maybe I’ll find other information as I go not even about steak! \n"
   ]
  },
  {
   "cell_type": "markdown",
   "metadata": {},
   "source": [
    "Data Cleaning Tasks:\n",
    "The first thing I noticed was when I read in the header was that there was a seperate column for the word \"Response\". I decided to take that out, becasue it provides no information I need and does not represent a legit response. It is another title. I also changes Yes: 1 and No: 0. I made this change so it was easier to look and read in the numbers. It also converts these strings to numerical values! This should be helpful for my analysis to come. "
   ]
  },
  {
   "cell_type": "markdown",
   "metadata": {},
   "source": [
    "(Note: originally, I wanted to replace NaN with x to make the data nicer for me to look at, but I quickly realized that this would have been a completley unnessecary clean and it acctually impared me from running a graph because my code would error as non-numerical values. I quickly made this fix after realizing that replacing x was not a good idea, and decided to keep NaN as a value because it is a super helpful one!- this original code is below)"
   ]
  },
  {
   "cell_type": "code",
   "execution_count": 45,
   "metadata": {
    "collapsed": true
   },
   "outputs": [],
   "source": [
    "#Deleted cleaning:\n",
    "#filling null values with x through the .fillna method \n",
    "#steak = steak.fillna('x')\n",
    "#print head with \"head\" method to display replaced null values \n",
    "#steak.head()"
   ]
  },
  {
   "cell_type": "code",
   "execution_count": 46,
   "metadata": {},
   "outputs": [
    {
     "data": {
      "text/html": [
       "<div>\n",
       "<style scoped>\n",
       "    .dataframe tbody tr th:only-of-type {\n",
       "        vertical-align: middle;\n",
       "    }\n",
       "\n",
       "    .dataframe tbody tr th {\n",
       "        vertical-align: top;\n",
       "    }\n",
       "\n",
       "    .dataframe thead th {\n",
       "        text-align: right;\n",
       "    }\n",
       "</style>\n",
       "<table border=\"1\" class=\"dataframe\">\n",
       "  <thead>\n",
       "    <tr style=\"text-align: right;\">\n",
       "      <th></th>\n",
       "      <th>RespondentID</th>\n",
       "      <th>Consider the following hypothetical situations: &lt;br&gt;In Lottery A, you have a 50% chance of success, with a payout of $100. &lt;br&gt;In Lottery B, you have a 90% chance of success, with a payout of $20. &lt;br&gt;&lt;br&gt;Assuming you have $10 to bet, would you play Lottery A or Lottery B?</th>\n",
       "      <th>Do you ever smoke cigarettes?</th>\n",
       "      <th>Do you ever drink alcohol?</th>\n",
       "      <th>Do you ever gamble?</th>\n",
       "      <th>Have you ever been skydiving?</th>\n",
       "      <th>Do you ever drive above the speed limit?</th>\n",
       "      <th>Have you ever cheated on your significant other?</th>\n",
       "      <th>Do you eat steak?</th>\n",
       "      <th>How do you like your steak prepared?</th>\n",
       "      <th>Gender</th>\n",
       "      <th>Age</th>\n",
       "      <th>Household Income</th>\n",
       "      <th>Education</th>\n",
       "      <th>Location (Census Region)</th>\n",
       "    </tr>\n",
       "  </thead>\n",
       "  <tbody>\n",
       "    <tr>\n",
       "      <th>0</th>\n",
       "      <td>NaN</td>\n",
       "      <td>Response</td>\n",
       "      <td>Response</td>\n",
       "      <td>Response</td>\n",
       "      <td>Response</td>\n",
       "      <td>Response</td>\n",
       "      <td>Response</td>\n",
       "      <td>Response</td>\n",
       "      <td>Response</td>\n",
       "      <td>Response</td>\n",
       "      <td>Response</td>\n",
       "      <td>Response</td>\n",
       "      <td>Response</td>\n",
       "      <td>Response</td>\n",
       "      <td>Response</td>\n",
       "    </tr>\n",
       "    <tr>\n",
       "      <th>1</th>\n",
       "      <td>3.237566e+09</td>\n",
       "      <td>Lottery B</td>\n",
       "      <td>NaN</td>\n",
       "      <td>NaN</td>\n",
       "      <td>NaN</td>\n",
       "      <td>NaN</td>\n",
       "      <td>NaN</td>\n",
       "      <td>NaN</td>\n",
       "      <td>NaN</td>\n",
       "      <td>NaN</td>\n",
       "      <td>NaN</td>\n",
       "      <td>NaN</td>\n",
       "      <td>NaN</td>\n",
       "      <td>NaN</td>\n",
       "      <td>NaN</td>\n",
       "    </tr>\n",
       "    <tr>\n",
       "      <th>2</th>\n",
       "      <td>3.234982e+09</td>\n",
       "      <td>Lottery A</td>\n",
       "      <td>0</td>\n",
       "      <td>1</td>\n",
       "      <td>0</td>\n",
       "      <td>0</td>\n",
       "      <td>0</td>\n",
       "      <td>0</td>\n",
       "      <td>1</td>\n",
       "      <td>Medium rare</td>\n",
       "      <td>Male</td>\n",
       "      <td>&gt; 60</td>\n",
       "      <td>$50,000 - $99,999</td>\n",
       "      <td>Some college or Associate degree</td>\n",
       "      <td>East North Central</td>\n",
       "    </tr>\n",
       "    <tr>\n",
       "      <th>3</th>\n",
       "      <td>3.234973e+09</td>\n",
       "      <td>Lottery A</td>\n",
       "      <td>0</td>\n",
       "      <td>1</td>\n",
       "      <td>1</td>\n",
       "      <td>0</td>\n",
       "      <td>1</td>\n",
       "      <td>1</td>\n",
       "      <td>1</td>\n",
       "      <td>Rare</td>\n",
       "      <td>Male</td>\n",
       "      <td>&gt; 60</td>\n",
       "      <td>$150,000+</td>\n",
       "      <td>Graduate degree</td>\n",
       "      <td>South Atlantic</td>\n",
       "    </tr>\n",
       "    <tr>\n",
       "      <th>4</th>\n",
       "      <td>3.234972e+09</td>\n",
       "      <td>Lottery B</td>\n",
       "      <td>1</td>\n",
       "      <td>1</td>\n",
       "      <td>1</td>\n",
       "      <td>0</td>\n",
       "      <td>1</td>\n",
       "      <td>1</td>\n",
       "      <td>1</td>\n",
       "      <td>Medium</td>\n",
       "      <td>Male</td>\n",
       "      <td>&gt; 60</td>\n",
       "      <td>$50,000 - $99,999</td>\n",
       "      <td>Bachelor degree</td>\n",
       "      <td>New England</td>\n",
       "    </tr>\n",
       "  </tbody>\n",
       "</table>\n",
       "</div>"
      ],
      "text/plain": [
       "   RespondentID  \\\n",
       "0           NaN   \n",
       "1  3.237566e+09   \n",
       "2  3.234982e+09   \n",
       "3  3.234973e+09   \n",
       "4  3.234972e+09   \n",
       "\n",
       "  Consider the following hypothetical situations: <br>In Lottery A, you have a 50% chance of success, with a payout of $100. <br>In Lottery B, you have a 90% chance of success, with a payout of $20. <br><br>Assuming you have $10 to bet, would you play Lottery A or Lottery B?  \\\n",
       "0                                           Response                                                                                                                                                                                                                                  \n",
       "1                                          Lottery B                                                                                                                                                                                                                                  \n",
       "2                                          Lottery A                                                                                                                                                                                                                                  \n",
       "3                                          Lottery A                                                                                                                                                                                                                                  \n",
       "4                                          Lottery B                                                                                                                                                                                                                                  \n",
       "\n",
       "  Do you ever smoke cigarettes? Do you ever drink alcohol?  \\\n",
       "0                      Response                   Response   \n",
       "1                           NaN                        NaN   \n",
       "2                             0                          1   \n",
       "3                             0                          1   \n",
       "4                             1                          1   \n",
       "\n",
       "  Do you ever gamble? Have you ever been skydiving?  \\\n",
       "0            Response                      Response   \n",
       "1                 NaN                           NaN   \n",
       "2                   0                             0   \n",
       "3                   1                             0   \n",
       "4                   1                             0   \n",
       "\n",
       "  Do you ever drive above the speed limit?  \\\n",
       "0                                 Response   \n",
       "1                                      NaN   \n",
       "2                                        0   \n",
       "3                                        1   \n",
       "4                                        1   \n",
       "\n",
       "  Have you ever cheated on your significant other? Do you eat steak?  \\\n",
       "0                                         Response          Response   \n",
       "1                                              NaN               NaN   \n",
       "2                                                0                 1   \n",
       "3                                                1                 1   \n",
       "4                                                1                 1   \n",
       "\n",
       "  How do you like your steak prepared?    Gender       Age   Household Income  \\\n",
       "0                             Response  Response  Response           Response   \n",
       "1                                  NaN       NaN       NaN                NaN   \n",
       "2                          Medium rare      Male      > 60  $50,000 - $99,999   \n",
       "3                                 Rare      Male      > 60          $150,000+   \n",
       "4                               Medium      Male      > 60  $50,000 - $99,999   \n",
       "\n",
       "                          Education Location (Census Region)  \n",
       "0                          Response                 Response  \n",
       "1                               NaN                      NaN  \n",
       "2  Some college or Associate degree       East North Central  \n",
       "3                   Graduate degree           South Atlantic  \n",
       "4                   Bachelor degree              New England  "
      ]
     },
     "execution_count": 46,
     "metadata": {},
     "output_type": "execute_result"
    }
   ],
   "source": [
    "#Next, replacing Yes and NO with number values to clear up data set \n",
    "#permanently changing data frame by redefining it \n",
    "steak = steak.replace(['Yes', 'No'], [1,0])\n",
    "#print head with \"head\" method to display this change\n",
    "steak.head()\n"
   ]
  },
  {
   "cell_type": "code",
   "execution_count": 47,
   "metadata": {},
   "outputs": [
    {
     "data": {
      "text/html": [
       "<div>\n",
       "<style scoped>\n",
       "    .dataframe tbody tr th:only-of-type {\n",
       "        vertical-align: middle;\n",
       "    }\n",
       "\n",
       "    .dataframe tbody tr th {\n",
       "        vertical-align: top;\n",
       "    }\n",
       "\n",
       "    .dataframe thead th {\n",
       "        text-align: right;\n",
       "    }\n",
       "</style>\n",
       "<table border=\"1\" class=\"dataframe\">\n",
       "  <thead>\n",
       "    <tr style=\"text-align: right;\">\n",
       "      <th></th>\n",
       "      <th>RespondentID</th>\n",
       "      <th>Consider the following hypothetical situations: &lt;br&gt;In Lottery A, you have a 50% chance of success, with a payout of $100. &lt;br&gt;In Lottery B, you have a 90% chance of success, with a payout of $20. &lt;br&gt;&lt;br&gt;Assuming you have $10 to bet, would you play Lottery A or Lottery B?</th>\n",
       "      <th>Do you ever smoke cigarettes?</th>\n",
       "      <th>Do you ever drink alcohol?</th>\n",
       "      <th>Do you ever gamble?</th>\n",
       "      <th>Have you ever been skydiving?</th>\n",
       "      <th>Do you ever drive above the speed limit?</th>\n",
       "      <th>Have you ever cheated on your significant other?</th>\n",
       "      <th>Do you eat steak?</th>\n",
       "      <th>How do you like your steak prepared?</th>\n",
       "      <th>Gender</th>\n",
       "      <th>Age</th>\n",
       "      <th>Household Income</th>\n",
       "      <th>Education</th>\n",
       "      <th>Location (Census Region)</th>\n",
       "    </tr>\n",
       "  </thead>\n",
       "  <tbody>\n",
       "    <tr>\n",
       "      <th>1</th>\n",
       "      <td>3.237566e+09</td>\n",
       "      <td>Lottery B</td>\n",
       "      <td>NaN</td>\n",
       "      <td>NaN</td>\n",
       "      <td>NaN</td>\n",
       "      <td>NaN</td>\n",
       "      <td>NaN</td>\n",
       "      <td>NaN</td>\n",
       "      <td>NaN</td>\n",
       "      <td>NaN</td>\n",
       "      <td>NaN</td>\n",
       "      <td>NaN</td>\n",
       "      <td>NaN</td>\n",
       "      <td>NaN</td>\n",
       "      <td>NaN</td>\n",
       "    </tr>\n",
       "    <tr>\n",
       "      <th>2</th>\n",
       "      <td>3.234982e+09</td>\n",
       "      <td>Lottery A</td>\n",
       "      <td>0</td>\n",
       "      <td>1</td>\n",
       "      <td>0</td>\n",
       "      <td>0</td>\n",
       "      <td>0</td>\n",
       "      <td>0</td>\n",
       "      <td>1</td>\n",
       "      <td>Medium rare</td>\n",
       "      <td>Male</td>\n",
       "      <td>&gt; 60</td>\n",
       "      <td>$50,000 - $99,999</td>\n",
       "      <td>Some college or Associate degree</td>\n",
       "      <td>East North Central</td>\n",
       "    </tr>\n",
       "    <tr>\n",
       "      <th>3</th>\n",
       "      <td>3.234973e+09</td>\n",
       "      <td>Lottery A</td>\n",
       "      <td>0</td>\n",
       "      <td>1</td>\n",
       "      <td>1</td>\n",
       "      <td>0</td>\n",
       "      <td>1</td>\n",
       "      <td>1</td>\n",
       "      <td>1</td>\n",
       "      <td>Rare</td>\n",
       "      <td>Male</td>\n",
       "      <td>&gt; 60</td>\n",
       "      <td>$150,000+</td>\n",
       "      <td>Graduate degree</td>\n",
       "      <td>South Atlantic</td>\n",
       "    </tr>\n",
       "    <tr>\n",
       "      <th>4</th>\n",
       "      <td>3.234972e+09</td>\n",
       "      <td>Lottery B</td>\n",
       "      <td>1</td>\n",
       "      <td>1</td>\n",
       "      <td>1</td>\n",
       "      <td>0</td>\n",
       "      <td>1</td>\n",
       "      <td>1</td>\n",
       "      <td>1</td>\n",
       "      <td>Medium</td>\n",
       "      <td>Male</td>\n",
       "      <td>&gt; 60</td>\n",
       "      <td>$50,000 - $99,999</td>\n",
       "      <td>Bachelor degree</td>\n",
       "      <td>New England</td>\n",
       "    </tr>\n",
       "    <tr>\n",
       "      <th>5</th>\n",
       "      <td>3.234959e+09</td>\n",
       "      <td>Lottery B</td>\n",
       "      <td>0</td>\n",
       "      <td>1</td>\n",
       "      <td>0</td>\n",
       "      <td>0</td>\n",
       "      <td>1</td>\n",
       "      <td>1</td>\n",
       "      <td>1</td>\n",
       "      <td>Medium</td>\n",
       "      <td>Male</td>\n",
       "      <td>&gt; 60</td>\n",
       "      <td>$50,000 - $99,999</td>\n",
       "      <td>Graduate degree</td>\n",
       "      <td>Middle Atlantic</td>\n",
       "    </tr>\n",
       "  </tbody>\n",
       "</table>\n",
       "</div>"
      ],
      "text/plain": [
       "   RespondentID  \\\n",
       "1  3.237566e+09   \n",
       "2  3.234982e+09   \n",
       "3  3.234973e+09   \n",
       "4  3.234972e+09   \n",
       "5  3.234959e+09   \n",
       "\n",
       "  Consider the following hypothetical situations: <br>In Lottery A, you have a 50% chance of success, with a payout of $100. <br>In Lottery B, you have a 90% chance of success, with a payout of $20. <br><br>Assuming you have $10 to bet, would you play Lottery A or Lottery B?  \\\n",
       "1                                          Lottery B                                                                                                                                                                                                                                  \n",
       "2                                          Lottery A                                                                                                                                                                                                                                  \n",
       "3                                          Lottery A                                                                                                                                                                                                                                  \n",
       "4                                          Lottery B                                                                                                                                                                                                                                  \n",
       "5                                          Lottery B                                                                                                                                                                                                                                  \n",
       "\n",
       "  Do you ever smoke cigarettes? Do you ever drink alcohol?  \\\n",
       "1                           NaN                        NaN   \n",
       "2                             0                          1   \n",
       "3                             0                          1   \n",
       "4                             1                          1   \n",
       "5                             0                          1   \n",
       "\n",
       "  Do you ever gamble? Have you ever been skydiving?  \\\n",
       "1                 NaN                           NaN   \n",
       "2                   0                             0   \n",
       "3                   1                             0   \n",
       "4                   1                             0   \n",
       "5                   0                             0   \n",
       "\n",
       "  Do you ever drive above the speed limit?  \\\n",
       "1                                      NaN   \n",
       "2                                        0   \n",
       "3                                        1   \n",
       "4                                        1   \n",
       "5                                        1   \n",
       "\n",
       "  Have you ever cheated on your significant other? Do you eat steak?  \\\n",
       "1                                              NaN               NaN   \n",
       "2                                                0                 1   \n",
       "3                                                1                 1   \n",
       "4                                                1                 1   \n",
       "5                                                1                 1   \n",
       "\n",
       "  How do you like your steak prepared? Gender   Age   Household Income  \\\n",
       "1                                  NaN    NaN   NaN                NaN   \n",
       "2                          Medium rare   Male  > 60  $50,000 - $99,999   \n",
       "3                                 Rare   Male  > 60          $150,000+   \n",
       "4                               Medium   Male  > 60  $50,000 - $99,999   \n",
       "5                               Medium   Male  > 60  $50,000 - $99,999   \n",
       "\n",
       "                          Education Location (Census Region)  \n",
       "1                               NaN                      NaN  \n",
       "2  Some college or Associate degree       East North Central  \n",
       "3                   Graduate degree           South Atlantic  \n",
       "4                   Bachelor degree              New England  \n",
       "5                   Graduate degree          Middle Atlantic  "
      ]
     },
     "execution_count": 47,
     "metadata": {},
     "output_type": "execute_result"
    }
   ],
   "source": [
    "#the drop method drops index 0 as the response info is not needed\n",
    "steak.drop(steak.index[[0]], inplace = True)\n",
    "steak.head()"
   ]
  },
  {
   "cell_type": "markdown",
   "metadata": {},
   "source": [
    "Finally, I decided to additionally rename each column with clearer, more consise titles. "
   ]
  },
  {
   "cell_type": "code",
   "execution_count": 48,
   "metadata": {},
   "outputs": [
    {
     "data": {
      "text/html": [
       "<div>\n",
       "<style scoped>\n",
       "    .dataframe tbody tr th:only-of-type {\n",
       "        vertical-align: middle;\n",
       "    }\n",
       "\n",
       "    .dataframe tbody tr th {\n",
       "        vertical-align: top;\n",
       "    }\n",
       "\n",
       "    .dataframe thead th {\n",
       "        text-align: right;\n",
       "    }\n",
       "</style>\n",
       "<table border=\"1\" class=\"dataframe\">\n",
       "  <thead>\n",
       "    <tr style=\"text-align: right;\">\n",
       "      <th></th>\n",
       "      <th>ID</th>\n",
       "      <th>lottery</th>\n",
       "      <th>smoke</th>\n",
       "      <th>alcohol</th>\n",
       "      <th>gamble</th>\n",
       "      <th>skydiving</th>\n",
       "      <th>speeding</th>\n",
       "      <th>cheated</th>\n",
       "      <th>steak</th>\n",
       "      <th>prepared</th>\n",
       "      <th>gender</th>\n",
       "      <th>age</th>\n",
       "      <th>income</th>\n",
       "      <th>education</th>\n",
       "      <th>location</th>\n",
       "    </tr>\n",
       "  </thead>\n",
       "  <tbody>\n",
       "    <tr>\n",
       "      <th>1</th>\n",
       "      <td>3.237566e+09</td>\n",
       "      <td>Lottery B</td>\n",
       "      <td>NaN</td>\n",
       "      <td>NaN</td>\n",
       "      <td>NaN</td>\n",
       "      <td>NaN</td>\n",
       "      <td>NaN</td>\n",
       "      <td>NaN</td>\n",
       "      <td>NaN</td>\n",
       "      <td>NaN</td>\n",
       "      <td>NaN</td>\n",
       "      <td>NaN</td>\n",
       "      <td>NaN</td>\n",
       "      <td>NaN</td>\n",
       "      <td>NaN</td>\n",
       "    </tr>\n",
       "    <tr>\n",
       "      <th>2</th>\n",
       "      <td>3.234982e+09</td>\n",
       "      <td>Lottery A</td>\n",
       "      <td>0</td>\n",
       "      <td>1</td>\n",
       "      <td>0</td>\n",
       "      <td>0</td>\n",
       "      <td>0</td>\n",
       "      <td>0</td>\n",
       "      <td>1</td>\n",
       "      <td>Medium rare</td>\n",
       "      <td>Male</td>\n",
       "      <td>&gt; 60</td>\n",
       "      <td>$50,000 - $99,999</td>\n",
       "      <td>Some college or Associate degree</td>\n",
       "      <td>East North Central</td>\n",
       "    </tr>\n",
       "    <tr>\n",
       "      <th>3</th>\n",
       "      <td>3.234973e+09</td>\n",
       "      <td>Lottery A</td>\n",
       "      <td>0</td>\n",
       "      <td>1</td>\n",
       "      <td>1</td>\n",
       "      <td>0</td>\n",
       "      <td>1</td>\n",
       "      <td>1</td>\n",
       "      <td>1</td>\n",
       "      <td>Rare</td>\n",
       "      <td>Male</td>\n",
       "      <td>&gt; 60</td>\n",
       "      <td>$150,000+</td>\n",
       "      <td>Graduate degree</td>\n",
       "      <td>South Atlantic</td>\n",
       "    </tr>\n",
       "    <tr>\n",
       "      <th>4</th>\n",
       "      <td>3.234972e+09</td>\n",
       "      <td>Lottery B</td>\n",
       "      <td>1</td>\n",
       "      <td>1</td>\n",
       "      <td>1</td>\n",
       "      <td>0</td>\n",
       "      <td>1</td>\n",
       "      <td>1</td>\n",
       "      <td>1</td>\n",
       "      <td>Medium</td>\n",
       "      <td>Male</td>\n",
       "      <td>&gt; 60</td>\n",
       "      <td>$50,000 - $99,999</td>\n",
       "      <td>Bachelor degree</td>\n",
       "      <td>New England</td>\n",
       "    </tr>\n",
       "    <tr>\n",
       "      <th>5</th>\n",
       "      <td>3.234959e+09</td>\n",
       "      <td>Lottery B</td>\n",
       "      <td>0</td>\n",
       "      <td>1</td>\n",
       "      <td>0</td>\n",
       "      <td>0</td>\n",
       "      <td>1</td>\n",
       "      <td>1</td>\n",
       "      <td>1</td>\n",
       "      <td>Medium</td>\n",
       "      <td>Male</td>\n",
       "      <td>&gt; 60</td>\n",
       "      <td>$50,000 - $99,999</td>\n",
       "      <td>Graduate degree</td>\n",
       "      <td>Middle Atlantic</td>\n",
       "    </tr>\n",
       "  </tbody>\n",
       "</table>\n",
       "</div>"
      ],
      "text/plain": [
       "             ID    lottery smoke alcohol gamble skydiving speeding cheated  \\\n",
       "1  3.237566e+09  Lottery B   NaN     NaN    NaN       NaN      NaN     NaN   \n",
       "2  3.234982e+09  Lottery A     0       1      0         0        0       0   \n",
       "3  3.234973e+09  Lottery A     0       1      1         0        1       1   \n",
       "4  3.234972e+09  Lottery B     1       1      1         0        1       1   \n",
       "5  3.234959e+09  Lottery B     0       1      0         0        1       1   \n",
       "\n",
       "  steak     prepared gender   age             income  \\\n",
       "1   NaN          NaN    NaN   NaN                NaN   \n",
       "2     1  Medium rare   Male  > 60  $50,000 - $99,999   \n",
       "3     1         Rare   Male  > 60          $150,000+   \n",
       "4     1       Medium   Male  > 60  $50,000 - $99,999   \n",
       "5     1       Medium   Male  > 60  $50,000 - $99,999   \n",
       "\n",
       "                          education            location  \n",
       "1                               NaN                 NaN  \n",
       "2  Some college or Associate degree  East North Central  \n",
       "3                   Graduate degree      South Atlantic  \n",
       "4                   Bachelor degree         New England  \n",
       "5                   Graduate degree     Middle Atlantic  "
      ]
     },
     "execution_count": 48,
     "metadata": {},
     "output_type": "execute_result"
    }
   ],
   "source": [
    "#Finally, I am renaming column #2\n",
    "#With the rename method, I called the header name and renamed it\n",
    "\n",
    "#Inplace directly replaces it in your list \n",
    "#This makes a permanent change, a view (not just editing the view)\n",
    "\n",
    "steak.rename(columns = {\n",
    "    list(steak)[0] : 'ID',\n",
    "    list(steak)[1] : 'lottery',\n",
    "    list(steak)[2]: 'smoke',\n",
    "    list(steak)[3] : 'alcohol',\n",
    "    list(steak)[4] : 'gamble',\n",
    "    list(steak)[5] : 'skydiving',\n",
    "    list(steak)[6] : 'speeding',\n",
    "    list(steak)[7] : 'cheated',\n",
    "    list(steak)[8] : 'steak',\n",
    "    list(steak)[9] : 'prepared',\n",
    "    list(steak)[10] : 'gender',\n",
    "    list(steak)[11] : 'age',\n",
    "    list(steak)[12] : 'income',\n",
    "    list(steak)[13] : 'education',\n",
    "    list(steak)[14] : 'location',\n",
    "    },\n",
    "          inplace = True)\n",
    "\n",
    "steak.head()"
   ]
  },
  {
   "cell_type": "markdown",
   "metadata": {},
   "source": [
    "**Data Modeling**"
   ]
  },
  {
   "cell_type": "markdown",
   "metadata": {
    "collapsed": true
   },
   "source": [
    "The first approach to my data modeling section of this lab was to line up certain variables with the answer to the steak prompt. (So seeing if there was a correlation between steak and risks such as alcohol, gamble, skydiving, speeding, etc.)\n",
    "\n",
    "At first, I just printed some simple bar graphs which displayed a brief insight into correlation between certain risks and variables and eating steak."
   ]
  },
  {
   "cell_type": "markdown",
   "metadata": {},
   "source": [
    "First, relationship between steak and alcohol through a bar plot"
   ]
  },
  {
   "cell_type": "code",
   "execution_count": 49,
   "metadata": {},
   "outputs": [
    {
     "data": {
      "text/plain": [
       "<matplotlib.axes._subplots.AxesSubplot at 0x1c12b5f7f0>"
      ]
     },
     "execution_count": 49,
     "metadata": {},
     "output_type": "execute_result"
    },
    {
     "data": {
      "image/png": "[encoded data removed]",
      "text/plain": [
       "<matplotlib.figure.Figure at 0x1c12b5f0f0>"
      ]
     },
     "metadata": {},
     "output_type": "display_data"
    }
   ],
   "source": [
    "#plot the data using relplot(relational plot)\n",
    "\n",
    "#display a graph plotting smoking v eating steak\n",
    "sns.barplot(x=\"steak\", y=\"alcohol\", data = steak)"
   ]
  },
  {
   "cell_type": "markdown",
   "metadata": {},
   "source": [
    "Then, I began to combine two risk factors and compare those with eating steak (the bar graph below is alchohol, gambling compared with eating steak)"
   ]
  },
  {
   "cell_type": "code",
   "execution_count": 50,
   "metadata": {},
   "outputs": [
    {
     "data": {
      "text/plain": [
       "<matplotlib.axes._subplots.AxesSubplot at 0x1c12a79eb8>"
      ]
     },
     "execution_count": 50,
     "metadata": {},
     "output_type": "execute_result"
    },
    {
     "data": {
      "image/png": "[encoded data removed]",
      "text/plain": [
       "<matplotlib.figure.Figure at 0x1c1242b940>"
      ]
     },
     "metadata": {},
     "output_type": "display_data"
    }
   ],
   "source": [
    "#steak and gambling with alchohol as well \n",
    "sns.barplot(x=\"steak\", y=\"gamble\", hue = \"alcohol\", data = steak)"
   ]
  },
  {
   "cell_type": "markdown",
   "metadata": {},
   "source": [
    "Steak, Speeding, Skydiving"
   ]
  },
  {
   "cell_type": "code",
   "execution_count": 51,
   "metadata": {},
   "outputs": [
    {
     "data": {
      "text/plain": [
       "<matplotlib.axes._subplots.AxesSubplot at 0x1c12c3b470>"
      ]
     },
     "execution_count": 51,
     "metadata": {},
     "output_type": "execute_result"
    },
    {
     "data": {
      "image/png": "[encoded data removed]",
      "text/plain": [
       "<matplotlib.figure.Figure at 0x1c12213b38>"
      ]
     },
     "metadata": {},
     "output_type": "display_data"
    }
   ],
   "source": [
    "#steak and speeding and skydiving \n",
    "sns.barplot(x=\"steak\", y=\"speeding\", hue = \"skydiving\", data = steak)"
   ]
  },
  {
   "cell_type": "markdown",
   "metadata": {},
   "source": [
    "Steak, Smoking, and Cheating"
   ]
  },
  {
   "cell_type": "code",
   "execution_count": 52,
   "metadata": {},
   "outputs": [
    {
     "data": {
      "text/plain": [
       "<matplotlib.axes._subplots.AxesSubplot at 0x1c12c5bba8>"
      ]
     },
     "execution_count": 52,
     "metadata": {},
     "output_type": "execute_result"
    },
    {
     "data": {
      "image/png": "[encoded data removed]",
      "text/plain": [
       "<matplotlib.figure.Figure at 0x1c12c41550>"
      ]
     },
     "metadata": {},
     "output_type": "display_data"
    }
   ],
   "source": [
    "#steak, smoking, and cheating on spouse\n",
    "sns.barplot(x=\"steak\", y=\"smoke\", hue = \"cheated\", data = steak)"
   ]
  },
  {
   "cell_type": "markdown",
   "metadata": {},
   "source": [
    "Steak, education, and gender "
   ]
  },
  {
   "cell_type": "code",
   "execution_count": 53,
   "metadata": {},
   "outputs": [
    {
     "data": {
      "text/plain": [
       "<matplotlib.axes._subplots.AxesSubplot at 0x1c12c003c8>"
      ]
     },
     "execution_count": 53,
     "metadata": {},
     "output_type": "execute_result"
    },
    {
     "data": {
      "image/png": "[encoded data removed]",
      "text/plain": [
       "<matplotlib.figure.Figure at 0x1c12b6f550>"
      ]
     },
     "metadata": {},
     "output_type": "display_data"
    }
   ],
   "source": [
    "#steak, education, gender\n",
    "sns.barplot(x=\"steak\", y=\"education\", hue = \"gender\", data = steak)"
   ]
  },
  {
   "cell_type": "markdown",
   "metadata": {},
   "source": [
    "Steak and income"
   ]
  },
  {
   "cell_type": "code",
   "execution_count": 54,
   "metadata": {},
   "outputs": [
    {
     "data": {
      "text/plain": [
       "<matplotlib.axes._subplots.AxesSubplot at 0x1c12bf6c88>"
      ]
     },
     "execution_count": 54,
     "metadata": {},
     "output_type": "execute_result"
    },
    {
     "data": {
      "image/png": "[encoded data removed]",
      "text/plain": [
       "<matplotlib.figure.Figure at 0x1c12f90358>"
      ]
     },
     "metadata": {},
     "output_type": "display_data"
    }
   ],
   "source": [
    "#income and steak \n",
    "sns.barplot(x=\"steak\", y=\"income\", data = steak)"
   ]
  },
  {
   "cell_type": "markdown",
   "metadata": {},
   "source": [
    "Steak and location "
   ]
  },
  {
   "cell_type": "code",
   "execution_count": 55,
   "metadata": {},
   "outputs": [
    {
     "data": {
      "text/plain": [
       "<matplotlib.axes._subplots.AxesSubplot at 0x1c130e25f8>"
      ]
     },
     "execution_count": 55,
     "metadata": {},
     "output_type": "execute_result"
    },
    {
     "data": {
      "image/png": "[encoded data removed]",
      "text/plain": [
       "<matplotlib.figure.Figure at 0x1c12fc5e48>"
      ]
     },
     "metadata": {},
     "output_type": "display_data"
    }
   ],
   "source": [
    "#Where do people eat the most steak out of the 550 people who filled out the survey? \n",
    "\n",
    "sns.barplot(x=\"steak\", y=\"location\", data = steak)"
   ]
  },
  {
   "cell_type": "markdown",
   "metadata": {},
   "source": [
    "**Data Modeling Part 2: Combining Binary Data**"
   ]
  },
  {
   "cell_type": "markdown",
   "metadata": {},
   "source": [
    "The graphs which I modeled above were extremley helpful for pointing out alot of pretty basic correlations. I was able to understand relationships between some direct risk factors and even overlap them by declaring a hue. However initially helpful this kind of data searching was, I wanted to overlap my binary data in order to see even more. Maybe smoking will have no correlation to eating steak, but maybe smoking and skydiving will! I really wanted to overlap these binary columns into something else to provide even more insight into what I was exploring here. \n",
    "\n",
    "Additionally, I began to think about I could display my data beyond a bar graph. Maybe a heat map would be helpful! \n",
    "In the below section, I begin to explore these ideas to get even more out of the binary data I began with. "
   ]
  },
  {
   "cell_type": "code",
   "execution_count": 56,
   "metadata": {},
   "outputs": [
    {
     "data": {
      "text/html": [
       "<div>\n",
       "<style scoped>\n",
       "    .dataframe tbody tr th:only-of-type {\n",
       "        vertical-align: middle;\n",
       "    }\n",
       "\n",
       "    .dataframe tbody tr th {\n",
       "        vertical-align: top;\n",
       "    }\n",
       "\n",
       "    .dataframe thead th {\n",
       "        text-align: right;\n",
       "    }\n",
       "</style>\n",
       "<table border=\"1\" class=\"dataframe\">\n",
       "  <thead>\n",
       "    <tr style=\"text-align: right;\">\n",
       "      <th></th>\n",
       "      <th>ID</th>\n",
       "      <th>lottery</th>\n",
       "      <th>smoke</th>\n",
       "      <th>alcohol</th>\n",
       "      <th>gamble</th>\n",
       "      <th>skydiving</th>\n",
       "      <th>speeding</th>\n",
       "      <th>cheated</th>\n",
       "      <th>steak</th>\n",
       "      <th>prepared</th>\n",
       "      <th>gender</th>\n",
       "      <th>age</th>\n",
       "      <th>income</th>\n",
       "      <th>education</th>\n",
       "      <th>location</th>\n",
       "      <th>smoke and gamble</th>\n",
       "    </tr>\n",
       "  </thead>\n",
       "  <tbody>\n",
       "    <tr>\n",
       "      <th>1</th>\n",
       "      <td>3.237566e+09</td>\n",
       "      <td>Lottery B</td>\n",
       "      <td>NaN</td>\n",
       "      <td>NaN</td>\n",
       "      <td>NaN</td>\n",
       "      <td>NaN</td>\n",
       "      <td>NaN</td>\n",
       "      <td>NaN</td>\n",
       "      <td>NaN</td>\n",
       "      <td>NaN</td>\n",
       "      <td>NaN</td>\n",
       "      <td>NaN</td>\n",
       "      <td>NaN</td>\n",
       "      <td>NaN</td>\n",
       "      <td>NaN</td>\n",
       "      <td>NaN</td>\n",
       "    </tr>\n",
       "    <tr>\n",
       "      <th>2</th>\n",
       "      <td>3.234982e+09</td>\n",
       "      <td>Lottery A</td>\n",
       "      <td>0</td>\n",
       "      <td>1</td>\n",
       "      <td>0</td>\n",
       "      <td>0</td>\n",
       "      <td>0</td>\n",
       "      <td>0</td>\n",
       "      <td>1</td>\n",
       "      <td>Medium rare</td>\n",
       "      <td>Male</td>\n",
       "      <td>&gt; 60</td>\n",
       "      <td>$50,000 - $99,999</td>\n",
       "      <td>Some college or Associate degree</td>\n",
       "      <td>East North Central</td>\n",
       "      <td>0</td>\n",
       "    </tr>\n",
       "    <tr>\n",
       "      <th>3</th>\n",
       "      <td>3.234973e+09</td>\n",
       "      <td>Lottery A</td>\n",
       "      <td>0</td>\n",
       "      <td>1</td>\n",
       "      <td>1</td>\n",
       "      <td>0</td>\n",
       "      <td>1</td>\n",
       "      <td>1</td>\n",
       "      <td>1</td>\n",
       "      <td>Rare</td>\n",
       "      <td>Male</td>\n",
       "      <td>&gt; 60</td>\n",
       "      <td>$150,000+</td>\n",
       "      <td>Graduate degree</td>\n",
       "      <td>South Atlantic</td>\n",
       "      <td>1</td>\n",
       "    </tr>\n",
       "    <tr>\n",
       "      <th>4</th>\n",
       "      <td>3.234972e+09</td>\n",
       "      <td>Lottery B</td>\n",
       "      <td>1</td>\n",
       "      <td>1</td>\n",
       "      <td>1</td>\n",
       "      <td>0</td>\n",
       "      <td>1</td>\n",
       "      <td>1</td>\n",
       "      <td>1</td>\n",
       "      <td>Medium</td>\n",
       "      <td>Male</td>\n",
       "      <td>&gt; 60</td>\n",
       "      <td>$50,000 - $99,999</td>\n",
       "      <td>Bachelor degree</td>\n",
       "      <td>New England</td>\n",
       "      <td>2</td>\n",
       "    </tr>\n",
       "    <tr>\n",
       "      <th>5</th>\n",
       "      <td>3.234959e+09</td>\n",
       "      <td>Lottery B</td>\n",
       "      <td>0</td>\n",
       "      <td>1</td>\n",
       "      <td>0</td>\n",
       "      <td>0</td>\n",
       "      <td>1</td>\n",
       "      <td>1</td>\n",
       "      <td>1</td>\n",
       "      <td>Medium</td>\n",
       "      <td>Male</td>\n",
       "      <td>&gt; 60</td>\n",
       "      <td>$50,000 - $99,999</td>\n",
       "      <td>Graduate degree</td>\n",
       "      <td>Middle Atlantic</td>\n",
       "      <td>0</td>\n",
       "    </tr>\n",
       "  </tbody>\n",
       "</table>\n",
       "</div>"
      ],
      "text/plain": [
       "             ID    lottery smoke alcohol gamble skydiving speeding cheated  \\\n",
       "1  3.237566e+09  Lottery B   NaN     NaN    NaN       NaN      NaN     NaN   \n",
       "2  3.234982e+09  Lottery A     0       1      0         0        0       0   \n",
       "3  3.234973e+09  Lottery A     0       1      1         0        1       1   \n",
       "4  3.234972e+09  Lottery B     1       1      1         0        1       1   \n",
       "5  3.234959e+09  Lottery B     0       1      0         0        1       1   \n",
       "\n",
       "  steak     prepared gender   age             income  \\\n",
       "1   NaN          NaN    NaN   NaN                NaN   \n",
       "2     1  Medium rare   Male  > 60  $50,000 - $99,999   \n",
       "3     1         Rare   Male  > 60          $150,000+   \n",
       "4     1       Medium   Male  > 60  $50,000 - $99,999   \n",
       "5     1       Medium   Male  > 60  $50,000 - $99,999   \n",
       "\n",
       "                          education            location smoke and gamble  \n",
       "1                               NaN                 NaN              NaN  \n",
       "2  Some college or Associate degree  East North Central                0  \n",
       "3                   Graduate degree      South Atlantic                1  \n",
       "4                   Bachelor degree         New England                2  \n",
       "5                   Graduate degree     Middle Atlantic                0  "
      ]
     },
     "execution_count": 56,
     "metadata": {},
     "output_type": "execute_result"
    }
   ],
   "source": [
    "#creating smoking and gambling\n",
    "steak[\"smoke and gamble\"] = steak[\"smoke\"] + steak[\"gamble\"]\n",
    "steak.head()\n"
   ]
  },
  {
   "cell_type": "code",
   "execution_count": 63,
   "metadata": {},
   "outputs": [
    {
     "data": {
      "text/html": [
       "<div>\n",
       "<style scoped>\n",
       "    .dataframe tbody tr th:only-of-type {\n",
       "        vertical-align: middle;\n",
       "    }\n",
       "\n",
       "    .dataframe tbody tr th {\n",
       "        vertical-align: top;\n",
       "    }\n",
       "\n",
       "    .dataframe thead th {\n",
       "        text-align: right;\n",
       "    }\n",
       "</style>\n",
       "<table border=\"1\" class=\"dataframe\">\n",
       "  <thead>\n",
       "    <tr style=\"text-align: right;\">\n",
       "      <th></th>\n",
       "      <th>ID</th>\n",
       "      <th>lottery</th>\n",
       "      <th>smoke</th>\n",
       "      <th>alcohol</th>\n",
       "      <th>gamble</th>\n",
       "      <th>skydiving</th>\n",
       "      <th>speeding</th>\n",
       "      <th>cheated</th>\n",
       "      <th>steak</th>\n",
       "      <th>prepared</th>\n",
       "      <th>gender</th>\n",
       "      <th>age</th>\n",
       "      <th>income</th>\n",
       "      <th>education</th>\n",
       "      <th>location</th>\n",
       "      <th>smoke and gamble</th>\n",
       "    </tr>\n",
       "  </thead>\n",
       "  <tbody>\n",
       "    <tr>\n",
       "      <th>1</th>\n",
       "      <td>3.237566e+09</td>\n",
       "      <td>Lottery B</td>\n",
       "      <td>NaN</td>\n",
       "      <td>NaN</td>\n",
       "      <td>NaN</td>\n",
       "      <td>NaN</td>\n",
       "      <td>NaN</td>\n",
       "      <td>NaN</td>\n",
       "      <td>NaN</td>\n",
       "      <td>NaN</td>\n",
       "      <td>NaN</td>\n",
       "      <td>NaN</td>\n",
       "      <td>NaN</td>\n",
       "      <td>NaN</td>\n",
       "      <td>NaN</td>\n",
       "      <td>NaN</td>\n",
       "    </tr>\n",
       "    <tr>\n",
       "      <th>2</th>\n",
       "      <td>3.234982e+09</td>\n",
       "      <td>Lottery A</td>\n",
       "      <td>0</td>\n",
       "      <td>1</td>\n",
       "      <td>0</td>\n",
       "      <td>0</td>\n",
       "      <td>0</td>\n",
       "      <td>0</td>\n",
       "      <td>1</td>\n",
       "      <td>Medium rare</td>\n",
       "      <td>Male</td>\n",
       "      <td>&gt; 60</td>\n",
       "      <td>$50,000 - $99,999</td>\n",
       "      <td>Some college or Associate degree</td>\n",
       "      <td>East North Central</td>\n",
       "      <td>0</td>\n",
       "    </tr>\n",
       "    <tr>\n",
       "      <th>3</th>\n",
       "      <td>3.234973e+09</td>\n",
       "      <td>Lottery A</td>\n",
       "      <td>0</td>\n",
       "      <td>1</td>\n",
       "      <td>1</td>\n",
       "      <td>0</td>\n",
       "      <td>1</td>\n",
       "      <td>1</td>\n",
       "      <td>1</td>\n",
       "      <td>Rare</td>\n",
       "      <td>Male</td>\n",
       "      <td>&gt; 60</td>\n",
       "      <td>$150,000+</td>\n",
       "      <td>Graduate degree</td>\n",
       "      <td>South Atlantic</td>\n",
       "      <td>1</td>\n",
       "    </tr>\n",
       "    <tr>\n",
       "      <th>4</th>\n",
       "      <td>3.234972e+09</td>\n",
       "      <td>Lottery B</td>\n",
       "      <td>1</td>\n",
       "      <td>1</td>\n",
       "      <td>1</td>\n",
       "      <td>0</td>\n",
       "      <td>1</td>\n",
       "      <td>1</td>\n",
       "      <td>1</td>\n",
       "      <td>Medium</td>\n",
       "      <td>Male</td>\n",
       "      <td>&gt; 60</td>\n",
       "      <td>$50,000 - $99,999</td>\n",
       "      <td>Bachelor degree</td>\n",
       "      <td>New England</td>\n",
       "      <td>2</td>\n",
       "    </tr>\n",
       "    <tr>\n",
       "      <th>5</th>\n",
       "      <td>3.234959e+09</td>\n",
       "      <td>Lottery B</td>\n",
       "      <td>0</td>\n",
       "      <td>1</td>\n",
       "      <td>0</td>\n",
       "      <td>0</td>\n",
       "      <td>1</td>\n",
       "      <td>1</td>\n",
       "      <td>1</td>\n",
       "      <td>Medium</td>\n",
       "      <td>Male</td>\n",
       "      <td>&gt; 60</td>\n",
       "      <td>$50,000 - $99,999</td>\n",
       "      <td>Graduate degree</td>\n",
       "      <td>Middle Atlantic</td>\n",
       "      <td>0</td>\n",
       "    </tr>\n",
       "  </tbody>\n",
       "</table>\n",
       "</div>"
      ],
      "text/plain": [
       "             ID    lottery smoke alcohol gamble skydiving speeding cheated  \\\n",
       "1  3.237566e+09  Lottery B   NaN     NaN    NaN       NaN      NaN     NaN   \n",
       "2  3.234982e+09  Lottery A     0       1      0         0        0       0   \n",
       "3  3.234973e+09  Lottery A     0       1      1         0        1       1   \n",
       "4  3.234972e+09  Lottery B     1       1      1         0        1       1   \n",
       "5  3.234959e+09  Lottery B     0       1      0         0        1       1   \n",
       "\n",
       "  steak     prepared gender   age             income  \\\n",
       "1   NaN          NaN    NaN   NaN                NaN   \n",
       "2     1  Medium rare   Male  > 60  $50,000 - $99,999   \n",
       "3     1         Rare   Male  > 60          $150,000+   \n",
       "4     1       Medium   Male  > 60  $50,000 - $99,999   \n",
       "5     1       Medium   Male  > 60  $50,000 - $99,999   \n",
       "\n",
       "                          education            location smoke and gamble  \n",
       "1                               NaN                 NaN              NaN  \n",
       "2  Some college or Associate degree  East North Central                0  \n",
       "3                   Graduate degree      South Atlantic                1  \n",
       "4                   Bachelor degree         New England                2  \n",
       "5                   Graduate degree     Middle Atlantic                0  "
      ]
     },
     "execution_count": 63,
     "metadata": {},
     "output_type": "execute_result"
    }
   ],
   "source": [
    "#still have to differntiate smoking and no gamble and no smoke and gamble (these now are both under the number 1)\n",
    "#but, my code above did read in 0 as niether and 2 as both! \n",
    "#My next step needs to be differentiating these two things \n",
    "\n",
    "#No smoke no gamble = 1\n",
    "#yes somke no gamble = 2\n",
    "#no smoke yes gamble = 3\n",
    "#yes smoke yes gamble = 4\n",
    "\n",
    "for i in steak:\n",
    "    \n",
    "    if (steak.index[0], steak.columns[2]) == 0 and (steak.index[0], steak.columns[4]) == 0:\n",
    "        steak[\"smoke and gamble\"] == 1\n",
    "    elif (steak.index[0], steak.columns[2]) == 1 and (steak.index[0], steak.columns[4]) == 0:\n",
    "        steak[\"smoke and gamble\"] == 2\n",
    "    \n",
    "    elif (steak.index[0], steak.columns[2]) == 0 and (steak.index[0], steak.columns[4]) == 1:\n",
    "        steak[\"smoke and gamble\"] == 3\n",
    "\n",
    "    else:\n",
    "        steak[\"smoke and gamble\"] == 4\n",
    "    \n",
    "steak.head()\n"
   ]
  },
  {
   "cell_type": "markdown",
   "metadata": {},
   "source": [
    "Now that I have combined the two risk factors of smoking and gambling in a column, I can produce graphs with those overlapping risk factors!!"
   ]
  },
  {
   "cell_type": "code",
   "execution_count": 67,
   "metadata": {},
   "outputs": [
    {
     "data": {
      "text/plain": [
       "<matplotlib.axes._subplots.AxesSubplot at 0x1c12fdbda0>"
      ]
     },
     "execution_count": 67,
     "metadata": {},
     "output_type": "execute_result"
    },
    {
     "data": {
      "image/png": "[encoded data removed]",
      "text/plain": [
       "<matplotlib.figure.Figure at 0x1c124b2898>"
      ]
     },
     "metadata": {},
     "output_type": "display_data"
    }
   ],
   "source": [
    "sns.barplot(x=\"steak\", y=\"smoke and gamble\", data = steak)"
   ]
  },
  {
   "cell_type": "code",
   "execution_count": 68,
   "metadata": {},
   "outputs": [
    {
     "data": {
      "text/plain": [
       "<matplotlib.axes._subplots.AxesSubplot at 0x1c1347bf28>"
      ]
     },
     "execution_count": 68,
     "metadata": {},
     "output_type": "execute_result"
    },
    {
     "data": {
      "image/png": "[encoded data removed]",
      "text/plain": [
       "<matplotlib.figure.Figure at 0x1c130d05c0>"
      ]
     },
     "metadata": {},
     "output_type": "display_data"
    }
   ],
   "source": [
    "sns.barplot(x=\"steak\", y=\"smoke and gamble\", hue = \"skydiving\", data = steak)"
   ]
  },
  {
   "cell_type": "markdown",
   "metadata": {},
   "source": [
    "**Used Sites:**"
   ]
  },
  {
   "cell_type": "markdown",
   "metadata": {},
   "source": [
    "https://seaborn.pydata.org/generated/seaborn.barplot.html \n",
    "\n",
    "https://seaborn.pydata.org/tutorial/distributions.html\n",
    "\n",
    "https://stackoverflow.com/questions/19377969/combine-two-columns-of-text-in-dataframe-in-pandas-python"
   ]
  },
  {
   "cell_type": "markdown",
   "metadata": {
    "collapsed": true
   },
   "source": [
    "Ms. Sconyers helped me alot when understanding that replacing NaN with x was both inefficient and was the source of my errors. She also aided me in understanding how to combine multiple binary data columns together into one column to work at overlaping my data and try to understand even more about my dataset!"
   ]
  },
  {
   "cell_type": "code",
   "execution_count": null,
   "metadata": {
    "collapsed": true
   },
   "outputs": [],
   "source": []
  }
 ],
 "metadata": {
  "kernelspec": {
   "display_name": "Python 3",
   "language": "python",
   "name": "python3"
  },
  "language_info": {
   "codemirror_mode": {
    "name": "ipython",
    "version": 3
   },
   "file_extension": ".py",
   "mimetype": "text/x-python",
   "name": "python",
   "nbconvert_exporter": "python",
   "pygments_lexer": "ipython3",
   "version": "3.6.3"
  }
 },
 "nbformat": 4,
 "nbformat_minor": 2
}
